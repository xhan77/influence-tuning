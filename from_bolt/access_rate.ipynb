{
 "cells": [
  {
   "cell_type": "code",
   "execution_count": 1,
   "metadata": {},
   "outputs": [],
   "source": [
    "import csv\n",
    "from collections import defaultdict\n",
    "import numpy as np"
   ]
  },
  {
   "cell_type": "code",
   "execution_count": 2,
   "metadata": {},
   "outputs": [],
   "source": [
    "def parse_hp_file(hp_file):\n",
    "    hp_data = defaultdict(list)\n",
    "\n",
    "    with open(hp_file, encoding='utf-8', newline='') as csvfile:\n",
    "        ratings_headers = dict() # key: index of columns, value: header name\n",
    "        ratings_h2ix = dict()\n",
    "        csvreader = csv.reader(csvfile, delimiter=',', quotechar='\\\"')\n",
    "        for _i, row in enumerate(csvreader):\n",
    "            if _i == 0:\n",
    "                for _j, header in enumerate(row):\n",
    "                    ratings_headers[_j] = header.strip()\n",
    "                ratings_h2ix = {_h: _ix for _ix, _h in ratings_headers.items()}\n",
    "                continue\n",
    "            state = row[ratings_h2ix['state']]\n",
    "            if state != \"COMPLETED\":\n",
    "                continue\n",
    "            trial_id = row[ratings_h2ix['trial_id']]\n",
    "            acc = row[ratings_h2ix['dev_test_combo']]\n",
    "            acc = float(acc)\n",
    "            dev_acc = int(acc) / 1000\n",
    "            test_acc = (acc - int(acc)) * 100\n",
    "            \n",
    "            if dev_acc < 51: # degenerate trial\n",
    "                continue\n",
    "            \n",
    "            seed = row[ratings_h2ix['seed']]\n",
    "            confound_access_rate = float(row[ratings_h2ix['confound_access_rate']])\n",
    "#             num_train_epochs = row[ratings_h2ix['num_train_epochs']]\n",
    "#             coord_interval = row[ratings_h2ix['coord_interval']]\n",
    "#             influence_tuning_batch_size = row[ratings_h2ix['influence_tuning_batch_size']]\n",
    "#             influence_tuning_epochs = row[ratings_h2ix['influence_tuning_epochs']]\n",
    "#             influence_tuning_instance_dropout = row[ratings_h2ix['influence_tuning_instance_dropout']]\n",
    "#             influence_tuning_lr = row[ratings_h2ix['influence_tuning_lr']]\n",
    "            key = (confound_access_rate,\n",
    "#                    coord_interval,\n",
    "#                    influence_tuning_batch_size,\n",
    "#                    influence_tuning_epochs,\n",
    "#                    influence_tuning_instance_dropout,\n",
    "#                    influence_tuning_lr\n",
    "                  )\n",
    "            hp_data[key].append((dev_acc, test_acc, trial_id))\n",
    "\n",
    "    print(len(hp_data))\n",
    "    return hp_data"
   ]
  },
  {
   "cell_type": "code",
   "execution_count": 3,
   "metadata": {},
   "outputs": [
    {
     "name": "stdout",
     "output_type": "stream",
     "text": [
      "5\n"
     ]
    }
   ],
   "source": [
    "hp_data = parse_hp_file('synth_it_access_rate.csv')"
   ]
  },
  {
   "cell_type": "raw",
   "metadata": {},
   "source": [
    "np.mean([e[1] for e in sorted([(k, np.mean(v), v) for k, v in hp_data.items()], key=lambda x: -x[1])[:10]])"
   ]
  },
  {
   "cell_type": "code",
   "execution_count": 4,
   "metadata": {},
   "outputs": [],
   "source": [
    "sorted_list = sorted([(k, np.mean([e[0] for e in v]), np.mean([e[1] for e in v]), v) for k, v in hp_data.items() if len(v) >= 3], key=lambda x: -x[1])[:10]"
   ]
  },
  {
   "cell_type": "code",
   "execution_count": 5,
   "metadata": {},
   "outputs": [
    {
     "name": "stdout",
     "output_type": "stream",
     "text": [
      "['umqeks9chk', 'q95dbr5xcz', 'uky4nzwrqf', 'pftzbck8yq', 'c4nequ7abt', 'y37x9x272r', 'cum6f6vti8', 'en25kd8x9b', '96cb34secg', 't669pn2gmz', 'ftc57dik4h', '2pgdpmc5qp', 'jkvzgipb2g', '2rxf6urm2y', 'uwg75syjn4', 'irimvkz4qb', 'vq2jyyia9t', 'wjas93buf5', 'cnwyfg75gf', 'xiarpfznfh', 'j5f5v4pa3v', 'yy6qtw8ixi']\n"
     ]
    }
   ],
   "source": [
    "trial_ids = []\n",
    "for k, _, _, v in sorted_list:\n",
    "    for e in v:\n",
    "        trial_ids.append(e[2])\n",
    "print(trial_ids)"
   ]
  },
  {
   "cell_type": "code",
   "execution_count": 6,
   "metadata": {},
   "outputs": [
    {
     "data": {
      "text/plain": [
       "[((1.0,),\n",
       "  81.4582,\n",
       "  80.48000000038883,\n",
       "  [(81.875, 80.80000000045402, 'umqeks9chk'),\n",
       "   (80.0, 79.60000000020955, 'q95dbr5xcz'),\n",
       "   (82.5, 82.00000000069849, 'uky4nzwrqf'),\n",
       "   (84.166, 82.60000000009313, 'pftzbck8yq'),\n",
       "   (78.75, 77.40000000048894, 'c4nequ7abt')]),\n",
       " ((0.2,),\n",
       "  81.35374999999999,\n",
       "  80.64999999987776,\n",
       "  [(84.166, 83.99999999965075, 'y37x9x272r'),\n",
       "   (82.5, 81.39999999984866, 'cum6f6vti8'),\n",
       "   (81.666, 79.60000000020955, 'en25kd8x9b'),\n",
       "   (77.083, 77.5999999998021, '96cb34secg')]),\n",
       " ((0.5,),\n",
       "  81.25,\n",
       "  80.13333333316648,\n",
       "  [(80.625, 78.99999999935972, 't669pn2gmz'),\n",
       "   (81.25, 80.59999999968568, 'ftc57dik4h'),\n",
       "   (81.875, 80.80000000045402, '2pgdpmc5qp')]),\n",
       " ((0.1,),\n",
       "  79.583,\n",
       "  78.68000000016764,\n",
       "  [(75.833, 74.00000000052387, 'jkvzgipb2g'),\n",
       "   (80.0, 80.40000000037253, '2rxf6urm2y'),\n",
       "   (81.666, 82.00000000069849, 'uwg75syjn4'),\n",
       "   (76.875, 73.79999999975553, 'irimvkz4qb'),\n",
       "   (83.541, 83.19999999948777, 'vq2jyyia9t')]),\n",
       " ((0.05,),\n",
       "  78.4164,\n",
       "  78.23999999993248,\n",
       "  [(82.291, 80.59999999968568, 'wjas93buf5'),\n",
       "   (75.833, 74.40000000060536, 'cnwyfg75gf'),\n",
       "   (76.25, 75.99999999947613, 'xiarpfznfh'),\n",
       "   (80.0, 80.00000000029104, 'j5f5v4pa3v'),\n",
       "   (77.708, 80.19999999960419, 'yy6qtw8ixi')])]"
      ]
     },
     "execution_count": 6,
     "metadata": {},
     "output_type": "execute_result"
    }
   ],
   "source": [
    "sorted_list"
   ]
  },
  {
   "cell_type": "code",
   "execution_count": 7,
   "metadata": {},
   "outputs": [
    {
     "name": "stdout",
     "output_type": "stream",
     "text": [
      "5\n"
     ]
    }
   ],
   "source": [
    "hp_data = parse_hp_file('synth_et_access_rate.csv')"
   ]
  },
  {
   "cell_type": "code",
   "execution_count": 8,
   "metadata": {},
   "outputs": [],
   "source": [
    "sorted_list = sorted([(k, np.mean([e[0] for e in v]), np.mean([e[1] for e in v]), v) for k, v in hp_data.items() if len(v) >= 3], key=lambda x: -x[1])[:10]"
   ]
  },
  {
   "cell_type": "code",
   "execution_count": 9,
   "metadata": {},
   "outputs": [
    {
     "name": "stdout",
     "output_type": "stream",
     "text": [
      "['x7t2eg5i3p', 'pty7b64tur', 'qivp54mtfz', '6h3agn2siv', '8wcfyspvke', '64tb6qnz4a', 'pqbzgyijm9', 'mmji2hq3gv', 'hhwjtfyu8w', 'iq2jwj6d7v', 'haaq8822x4', 'mhipu7xfw8', '42g5n7u8it', '9rjcwn3kyn', 'y8bdnxcq53', 'ezb9j98xsf', '3a6n9c4pqe', 'wdr9y3m9u5', '7mg2c77vfc', 'pzmzm2hu6x', 'vb8jp2m66t', '89cys4n5hh', 'm6rr39ags5']\n"
     ]
    }
   ],
   "source": [
    "trial_ids = []\n",
    "for k, _, _, v in sorted_list:\n",
    "    for e in v:\n",
    "        trial_ids.append(e[2])\n",
    "print(trial_ids)"
   ]
  },
  {
   "cell_type": "code",
   "execution_count": 10,
   "metadata": {},
   "outputs": [
    {
     "data": {
      "text/plain": [
       "[((1.0,),\n",
       "  83.6246,\n",
       "  82.20000000001164,\n",
       "  [(84.791, 83.00000000017462, 'x7t2eg5i3p'),\n",
       "   (80.833, 79.60000000020955, 'pty7b64tur'),\n",
       "   (84.583, 82.79999999940628, 'qivp54mtfz'),\n",
       "   (81.041, 80.80000000045402, '6h3agn2siv'),\n",
       "   (86.875, 84.79999999981374, '8wcfyspvke')]),\n",
       " ((0.5,),\n",
       "  81.52733333333333,\n",
       "  81.06666666620488,\n",
       "  [(84.583, 84.39999999973224, '64tb6qnz4a'),\n",
       "   (80.416, 80.19999999960419, 'pqbzgyijm9'),\n",
       "   (79.583, 78.59999999927823, 'mmji2hq3gv')]),\n",
       " ((0.1,),\n",
       "  80.83279999999999,\n",
       "  80.79999999987194,\n",
       "  [(81.666, 81.79999999993015, 'hhwjtfyu8w'),\n",
       "   (80.833, 80.19999999960419, 'iq2jwj6d7v'),\n",
       "   (75.833, 76.20000000024447, 'haaq8822x4'),\n",
       "   (84.791, 85.19999999989523, 'mhipu7xfw8'),\n",
       "   (81.041, 80.59999999968568, '42g5n7u8it')]),\n",
       " ((0.2,),\n",
       "  80.5414,\n",
       "  80.43999999965308,\n",
       "  [(76.25, 78.99999999935972, '9rjcwn3kyn'),\n",
       "   (80.833, 80.40000000037253, 'y8bdnxcq53'),\n",
       "   (80.625, 79.7999999995227, 'ezb9j98xsf'),\n",
       "   (82.291, 79.7999999995227, '3a6n9c4pqe'),\n",
       "   (82.708, 83.19999999948777, 'wdr9y3m9u5')]),\n",
       " ((0.05,),\n",
       "  80.37459999999999,\n",
       "  78.84000000020023,\n",
       "  [(81.458, 78.80000000004657, '7mg2c77vfc'),\n",
       "   (80.0, 77.5999999998021, 'pzmzm2hu6x'),\n",
       "   (79.166, 77.40000000048894, 'vb8jp2m66t'),\n",
       "   (79.166, 79.60000000020955, '89cys4n5hh'),\n",
       "   (82.083, 80.80000000045402, 'm6rr39ags5')])]"
      ]
     },
     "execution_count": 10,
     "metadata": {},
     "output_type": "execute_result"
    }
   ],
   "source": [
    "sorted_list"
   ]
  },
  {
   "cell_type": "code",
   "execution_count": null,
   "metadata": {},
   "outputs": [],
   "source": []
  }
 ],
 "metadata": {
  "kernelspec": {
   "display_name": "Python 3",
   "language": "python",
   "name": "python3"
  },
  "language_info": {
   "codemirror_mode": {
    "name": "ipython",
    "version": 3
   },
   "file_extension": ".py",
   "mimetype": "text/x-python",
   "name": "python",
   "nbconvert_exporter": "python",
   "pygments_lexer": "ipython3",
   "version": "3.7.3"
  }
 },
 "nbformat": 4,
 "nbformat_minor": 4
}
