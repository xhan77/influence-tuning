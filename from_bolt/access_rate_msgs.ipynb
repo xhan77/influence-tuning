{
 "cells": [
  {
   "cell_type": "code",
   "execution_count": 1,
   "metadata": {},
   "outputs": [],
   "source": [
    "import csv\n",
    "from collections import defaultdict\n",
    "import numpy as np"
   ]
  },
  {
   "cell_type": "code",
   "execution_count": 2,
   "metadata": {},
   "outputs": [],
   "source": [
    "def parse_hp_file(hp_file):\n",
    "    hp_data = defaultdict(list)\n",
    "\n",
    "    with open(hp_file, encoding='utf-8', newline='') as csvfile:\n",
    "        ratings_headers = dict() # key: index of columns, value: header name\n",
    "        ratings_h2ix = dict()\n",
    "        csvreader = csv.reader(csvfile, delimiter=',', quotechar='\\\"')\n",
    "        for _i, row in enumerate(csvreader):\n",
    "            if _i == 0:\n",
    "                for _j, header in enumerate(row):\n",
    "                    ratings_headers[_j] = header.strip()\n",
    "                ratings_h2ix = {_h: _ix for _ix, _h in ratings_headers.items()}\n",
    "                continue\n",
    "            state = row[ratings_h2ix['state']]\n",
    "            if state != \"COMPLETED\":\n",
    "                continue\n",
    "            trial_id = row[ratings_h2ix['trial_id']]\n",
    "            acc = row[ratings_h2ix['dev_test_combo']]\n",
    "            acc = float(acc)\n",
    "            dev_acc = int(acc) / 1000\n",
    "            test_acc = (acc - int(acc)) * 100\n",
    "            \n",
    "            if dev_acc < 55: # degenerate trials; two other trials have a dev acc at 59, but checked their train acc and they are both normal\n",
    "                continue\n",
    "            \n",
    "            seed = row[ratings_h2ix['seed']]\n",
    "            confound_access_rate = float(row[ratings_h2ix['confound_access_rate']])\n",
    "#             num_train_epochs = row[ratings_h2ix['num_train_epochs']]\n",
    "#             coord_interval = row[ratings_h2ix['coord_interval']]\n",
    "#             influence_tuning_batch_size = row[ratings_h2ix['influence_tuning_batch_size']]\n",
    "#             influence_tuning_epochs = row[ratings_h2ix['influence_tuning_epochs']]\n",
    "#             influence_tuning_instance_dropout = row[ratings_h2ix['influence_tuning_instance_dropout']]\n",
    "#             influence_tuning_lr = row[ratings_h2ix['influence_tuning_lr']]\n",
    "            key = (confound_access_rate,\n",
    "#                    coord_interval,\n",
    "#                    influence_tuning_batch_size,\n",
    "#                    influence_tuning_epochs,\n",
    "#                    influence_tuning_instance_dropout,\n",
    "#                    influence_tuning_lr\n",
    "                  )\n",
    "            hp_data[key].append((dev_acc, test_acc, trial_id))\n",
    "\n",
    "    print(len(hp_data))\n",
    "    return hp_data"
   ]
  },
  {
   "cell_type": "code",
   "execution_count": 3,
   "metadata": {},
   "outputs": [
    {
     "name": "stdout",
     "output_type": "stream",
     "text": [
      "5\n"
     ]
    }
   ],
   "source": [
    "hp_data = parse_hp_file('msgs_it_access_rate.csv')"
   ]
  },
  {
   "cell_type": "raw",
   "metadata": {},
   "source": [
    "np.mean([e[1] for e in sorted([(k, np.mean(v), v) for k, v in hp_data.items()], key=lambda x: -x[1])[:10]])"
   ]
  },
  {
   "cell_type": "code",
   "execution_count": 4,
   "metadata": {},
   "outputs": [],
   "source": [
    "sorted_list = sorted([(k, np.mean([e[0] for e in v]), np.mean([e[1] for e in v]), v) for k, v in hp_data.items() if len(v) >= 3], key=lambda x: -x[1])[:10]"
   ]
  },
  {
   "cell_type": "code",
   "execution_count": 5,
   "metadata": {},
   "outputs": [
    {
     "name": "stdout",
     "output_type": "stream",
     "text": [
      "['k6uue5dzia', 'p5fwe8tvrv', 'p79zbmvkb3', 'nd6anv9jui', 'ijjzkuad27', 'x6f26zbu32', 'pqvuv2ikip', 'z79xepe384', 'vqay9rythw', '79grmhzyy2', '8r7m4eur3t', '63ubwyca87', 'ck8bs4a4xb', 'khw3c6s4xh', 'd24gvnz3wx', 'mk2knqb4w5', 'vurjsubiu6', '93yveujpec']\n"
     ]
    }
   ],
   "source": [
    "trial_ids = []\n",
    "for k, _, _, v in sorted_list:\n",
    "    for e in v:\n",
    "        trial_ids.append(e[2])\n",
    "print(trial_ids)"
   ]
  },
  {
   "cell_type": "code",
   "execution_count": 6,
   "metadata": {},
   "outputs": [
    {
     "data": {
      "text/plain": [
       "[((0.5,),\n",
       "  93.71933333333334,\n",
       "  93.57333332979276,\n",
       "  [(92.226, 91.91333333001239, 'k6uue5dzia'),\n",
       "   (99.206, 99.25333332939772, 'p5fwe8tvrv'),\n",
       "   (89.726, 89.55333332996815, 'p79zbmvkb3')]),\n",
       " ((1.0,),\n",
       "  88.0796,\n",
       "  88.22533333383035,\n",
       "  [(91.646, 91.59999999974389, 'nd6anv9jui'),\n",
       "   (91.873, 92.0266666696989, 'ijjzkuad27'),\n",
       "   (91.626, 91.71333333069924, 'x6f26zbu32'),\n",
       "   (83.953, 84.26666666928213, 'pqvuv2ikip'),\n",
       "   (81.3, 81.51999999972759, 'z79xepe384')]),\n",
       " ((0.2,),\n",
       "  83.94125,\n",
       "  83.89833333494607,\n",
       "  [(92.326, 92.39999999990687, 'vqay9rythw'),\n",
       "   (80.186, 80.42666667024605, '79grmhzyy2'),\n",
       "   (85.113, 85.20666667027399, '8r7m4eur3t'),\n",
       "   (78.14, 77.55999999935739, '63ubwyca87')]),\n",
       " ((0.05,),\n",
       "  81.84866666666667,\n",
       "  81.74222222005483,\n",
       "  [(93.546, 93.70000000053551, 'ck8bs4a4xb'),\n",
       "   (59.38, 59.473333330242895, 'khw3c6s4xh'),\n",
       "   (92.62, 92.05333332938608, 'd24gvnz3wx')]),\n",
       " ((0.1,),\n",
       "  80.31733333333334,\n",
       "  80.47999999689637,\n",
       "  [(82.666, 83.09333333018003, 'mk2knqb4w5'),\n",
       "   (82.846, 82.9733333303011, 'vurjsubiu6'),\n",
       "   (75.44, 75.37333333020797, '93yveujpec')])]"
      ]
     },
     "execution_count": 6,
     "metadata": {},
     "output_type": "execute_result"
    }
   ],
   "source": [
    "sorted_list"
   ]
  },
  {
   "cell_type": "code",
   "execution_count": 7,
   "metadata": {},
   "outputs": [
    {
     "name": "stdout",
     "output_type": "stream",
     "text": [
      "5\n"
     ]
    }
   ],
   "source": [
    "hp_data = parse_hp_file('msgs_et_access_rate.csv')"
   ]
  },
  {
   "cell_type": "code",
   "execution_count": 8,
   "metadata": {},
   "outputs": [],
   "source": [
    "sorted_list = sorted([(k, np.mean([e[0] for e in v]), np.mean([e[1] for e in v]), v) for k, v in hp_data.items() if len(v) >= 3], key=lambda x: -x[1])[:10]"
   ]
  },
  {
   "cell_type": "code",
   "execution_count": 9,
   "metadata": {},
   "outputs": [
    {
     "name": "stdout",
     "output_type": "stream",
     "text": [
      "['rx2ht9me5b', 'v567qt8nx6', '5pxxfkuvm6', 'hmb8cy2vvu', 'nvbbcnunwi', '7qsaw6zshr', 'qxsi6byrtw', 'uzez8jmjfp', '2tz7gfbdv6', 'geykrz44iw', 'x5jvqbygvu', '3j8pdavu2a', 'mtrwsqpjic', '76tdzmbxdv', 'bztr4vc3pp', 'fut2ypabrk', 'tvfu3g4mcy', '6kecssscfb', 'mr87pfe9w8', 'e39g52mdxx', 'f9vknd5uw4', '9ym2pip2tk', 'sf49xvh6hf', 'x7h2xz2huw', '79mrjkzni2']\n"
     ]
    }
   ],
   "source": [
    "trial_ids = []\n",
    "for k, _, _, v in sorted_list:\n",
    "    for e in v:\n",
    "        trial_ids.append(e[2])\n",
    "print(trial_ids)"
   ]
  },
  {
   "cell_type": "code",
   "execution_count": 10,
   "metadata": {},
   "outputs": [
    {
     "data": {
      "text/plain": [
       "[((1.0,),\n",
       "  87.58380000000001,\n",
       "  87.44933333393419,\n",
       "  [(92.213, 91.88666667032521, 'rx2ht9me5b'),\n",
       "   (73.573, 73.54666666942649, 'v567qt8nx6'),\n",
       "   (92.74, 92.51333332940703, '5pxxfkuvm6'),\n",
       "   (90.54, 90.47333333001006, 'hmb8cy2vvu'),\n",
       "   (88.853, 88.82666667050216, 'nvbbcnunwi')]),\n",
       " ((0.05,),\n",
       "  85.153,\n",
       "  84.8973333320464,\n",
       "  [(90.386, 90.48000000038883, '7qsaw6zshr'),\n",
       "   (83.733, 83.49333333026152, 'qxsi6byrtw'),\n",
       "   (77.013, 76.79999999963911, 'uzez8jmjfp'),\n",
       "   (87.213, 86.79333332984243, '2tz7gfbdv6'),\n",
       "   (87.42, 86.92000000010012, 'geykrz44iw')]),\n",
       " ((0.5,),\n",
       "  83.0542,\n",
       "  82.79866666794987,\n",
       "  [(88.526, 88.1066666697734, 'x5jvqbygvu'),\n",
       "   (83.973, 83.58666667045327, '3j8pdavu2a'),\n",
       "   (80.946, 80.90666666976176, 'mtrwsqpjic'),\n",
       "   (81.226, 80.85333333001472, '76tdzmbxdv'),\n",
       "   (80.6, 80.53999999974621, 'bztr4vc3pp')]),\n",
       " ((0.2,),\n",
       "  81.8288,\n",
       "  81.56266666774172,\n",
       "  [(85.846, 85.52666666946607, 'fut2ypabrk'),\n",
       "   (92.006, 91.76666667044628, 'tvfu3g4mcy'),\n",
       "   (74.333, 74.57333333004499, '6kecssscfb'),\n",
       "   (85.593, 85.646666669345, 'mr87pfe9w8'),\n",
       "   (71.366, 70.29999999940628, 'e39g52mdxx')]),\n",
       " ((0.1,),\n",
       "  81.7422,\n",
       "  81.55999999784399,\n",
       "  [(82.886, 82.83999999985099, 'f9vknd5uw4'),\n",
       "   (88.093, 87.79333332931856, '9ym2pip2tk'),\n",
       "   (59.673, 59.500000000116415, 'sf49xvh6hf'),\n",
       "   (85.873, 85.71333332947688, 'x7h2xz2huw'),\n",
       "   (92.186, 91.9533333304571, '79mrjkzni2')])]"
      ]
     },
     "execution_count": 10,
     "metadata": {},
     "output_type": "execute_result"
    }
   ],
   "source": [
    "sorted_list"
   ]
  },
  {
   "cell_type": "code",
   "execution_count": null,
   "metadata": {},
   "outputs": [],
   "source": []
  }
 ],
 "metadata": {
  "kernelspec": {
   "display_name": "Python 3",
   "language": "python",
   "name": "python3"
  },
  "language_info": {
   "codemirror_mode": {
    "name": "ipython",
    "version": 3
   },
   "file_extension": ".py",
   "mimetype": "text/x-python",
   "name": "python",
   "nbconvert_exporter": "python",
   "pygments_lexer": "ipython3",
   "version": "3.7.3"
  }
 },
 "nbformat": 4,
 "nbformat_minor": 4
}
