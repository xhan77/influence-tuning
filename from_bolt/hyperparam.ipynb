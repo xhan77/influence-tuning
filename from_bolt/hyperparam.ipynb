{
 "cells": [
  {
   "cell_type": "code",
   "execution_count": 1,
   "metadata": {},
   "outputs": [],
   "source": [
    "import csv\n",
    "from collections import defaultdict\n",
    "import numpy as np"
   ]
  },
  {
   "cell_type": "code",
   "execution_count": 2,
   "metadata": {},
   "outputs": [],
   "source": [
    "def parse_hp_file(hp_file):\n",
    "    hp_data = defaultdict(list)\n",
    "\n",
    "    with open(hp_file, encoding='utf-8', newline='') as csvfile:\n",
    "        ratings_headers = dict() # key: index of columns, value: header name\n",
    "        ratings_h2ix = dict()\n",
    "        csvreader = csv.reader(csvfile, delimiter=',', quotechar='\\\"')\n",
    "        for _i, row in enumerate(csvreader):\n",
    "            if _i == 0:\n",
    "                for _j, header in enumerate(row):\n",
    "                    ratings_headers[_j] = header.strip()\n",
    "                ratings_h2ix = {_h: _ix for _ix, _h in ratings_headers.items()}\n",
    "                continue\n",
    "            state = row[ratings_h2ix['state']]\n",
    "            if state != \"COMPLETED\":\n",
    "                continue\n",
    "            trial_id = row[ratings_h2ix['trial_id']]\n",
    "            acc = row[ratings_h2ix['dev_test_combo']]\n",
    "            acc = float(acc)\n",
    "            dev_acc = int(acc) / 1000\n",
    "            test_acc = (acc - int(acc)) * 100\n",
    "            seed = row[ratings_h2ix['seed']]\n",
    "            num_train_epochs = row[ratings_h2ix['num_train_epochs']]\n",
    "            coord_interval = row[ratings_h2ix['coord_interval']]\n",
    "            influence_tuning_batch_size = row[ratings_h2ix['influence_tuning_batch_size']]\n",
    "            influence_tuning_epochs = row[ratings_h2ix['influence_tuning_epochs']]\n",
    "#             influence_tuning_instance_dropout = row[ratings_h2ix['influence_tuning_instance_dropout']]\n",
    "            influence_tuning_lr = row[ratings_h2ix['influence_tuning_lr']]\n",
    "            key = (num_train_epochs,\n",
    "                   coord_interval,\n",
    "                   influence_tuning_batch_size,\n",
    "                   influence_tuning_epochs,\n",
    "#                    influence_tuning_instance_dropout,\n",
    "                   influence_tuning_lr)\n",
    "            hp_data[key].append((dev_acc, test_acc, trial_id))\n",
    "\n",
    "    print(len(hp_data))\n",
    "    return hp_data"
   ]
  },
  {
   "cell_type": "code",
   "execution_count": 3,
   "metadata": {},
   "outputs": [
    {
     "name": "stdout",
     "output_type": "stream",
     "text": [
      "96\n"
     ]
    }
   ],
   "source": [
    "hp_data = parse_hp_file('IT_adam.csv')"
   ]
  },
  {
   "cell_type": "raw",
   "metadata": {},
   "source": [
    "np.mean([e[1] for e in sorted([(k, np.mean(v), v) for k, v in hp_data.items()], key=lambda x: -x[1])[:10]])"
   ]
  },
  {
   "cell_type": "code",
   "execution_count": 4,
   "metadata": {},
   "outputs": [],
   "source": [
    "sorted_list = sorted([(k, np.mean([e[0] for e in v]), np.mean([e[1] for e in v]), v) for k, v in hp_data.items()], key=lambda x: -x[1])[:10]"
   ]
  },
  {
   "cell_type": "code",
   "execution_count": 5,
   "metadata": {},
   "outputs": [
    {
     "name": "stdout",
     "output_type": "stream",
     "text": [
      "['wm64mhnbv3', 'cxbt2ww8h3', 'zwcrdfj2bc', 'bixj24zfuq', 'zjfvv5exp8', 'jtae4pd6cf', '8sn8qvt2ir', '5v9pyaghnp', 'ihv3sddrh4', '5r378dcg9v', 'fewc3hsq3a', 'hjicpgvg3r', 'vgfqvtv4aq', '5wd25rq2zp', '8x69jzdpmg', 'g9727itqhr', 'hnzn6snph3', 'w8e8j8p35j', 'h5ffbqgbav', 'dtmjc4qvuk', 'y8ji5h5bt3', '78dhwuj7cd', '4zemak9gaf', 'tie37ie45w', 'zph6tzw8in', 'hc3fw6tapp', 's6bhubm8h8', '9bzdfrw3ja', 'y2af4ufmie', '4vnw543jgp', 'wtqsnkzx5e', '865fyamgxw', 'f4npp93svz', 'bmvmai6fx2', '8rhax87ds4', 'kipcv7x3yd', 'pajrzn9dmz', 'qr566sj9ka', '6ci6v9gcpp', 'ppnqxi7nux', 'x2mjbmgapv', 'tst5gnfnz5', '4fmqw2faqq', 'efaqans5f2', 'sgh632nuqs', 'z8947vzvkn', 'b7v5dy4d9u', '9i83bcqn33', 'us88xh9d9f', 'hdih4zch83']\n"
     ]
    }
   ],
   "source": [
    "trial_ids = []\n",
    "for k, _, _, v in sorted_list:\n",
    "    for e in v:\n",
    "        trial_ids.append(e[2])\n",
    "print(trial_ids)"
   ]
  },
  {
   "cell_type": "code",
   "execution_count": 6,
   "metadata": {},
   "outputs": [
    {
     "data": {
      "text/plain": [
       "[(('10', '50', '64', '5', '0.00003'),\n",
       "  81.4582,\n",
       "  80.48000000038883,\n",
       "  [(80.0, 79.60000000020955, 'wm64mhnbv3'),\n",
       "   (84.166, 82.60000000009313, 'cxbt2ww8h3'),\n",
       "   (78.75, 77.40000000048894, 'zwcrdfj2bc'),\n",
       "   (81.875, 80.80000000045402, 'bixj24zfuq'),\n",
       "   (82.5, 82.00000000069849, 'zjfvv5exp8')]),\n",
       " (('10', '25', '64', '10', '0.00001'),\n",
       "  80.9996,\n",
       "  80.19999999989523,\n",
       "  [(79.791, 77.5999999998021, 'jtae4pd6cf'),\n",
       "   (82.083, 80.00000000029104, '8sn8qvt2ir'),\n",
       "   (82.708, 83.19999999948777, '5v9pyaghnp'),\n",
       "   (80.416, 80.40000000037253, 'ihv3sddrh4'),\n",
       "   (80.0, 79.7999999995227, '5r378dcg9v')]),\n",
       " (('10', '25', '16', '5', '0.00001'),\n",
       "  80.5414,\n",
       "  79.84000000025844,\n",
       "  [(83.958, 83.8000000003376, 'fewc3hsq3a'),\n",
       "   (71.875, 74.00000000052387, 'hjicpgvg3r'),\n",
       "   (84.791, 82.60000000009313, 'vgfqvtv4aq'),\n",
       "   (79.583, 77.80000000057044, '5wd25rq2zp'),\n",
       "   (82.5, 80.99999999976717, '8x69jzdpmg')]),\n",
       " (('10', '50', '16', '5', '0.000003'),\n",
       "  79.5414,\n",
       "  78.80000000004657,\n",
       "  [(78.125, 77.80000000057044, 'g9727itqhr'),\n",
       "   (80.0, 78.99999999935972, 'hnzn6snph3'),\n",
       "   (78.541, 79.20000000012806, 'w8e8j8p35j'),\n",
       "   (80.416, 79.7999999995227, 'h5ffbqgbav'),\n",
       "   (80.625, 78.20000000065193, 'dtmjc4qvuk')]),\n",
       " (('10', '25', '64', '5', '0.00001'),\n",
       "  79.4164,\n",
       "  78.48000000027241,\n",
       "  [(82.291, 80.99999999976717, 'y8ji5h5bt3'),\n",
       "   (78.125, 77.80000000057044, '78dhwuj7cd'),\n",
       "   (80.625, 79.20000000012806, '4zemak9gaf'),\n",
       "   (76.041, 76.60000000032596, 'tie37ie45w'),\n",
       "   (80.0, 77.80000000057044, 'zph6tzw8in')]),\n",
       " (('10', '50', '4', '10', '0.000003'),\n",
       "  78.99980000000001,\n",
       "  78.5999999998603,\n",
       "  [(80.0, 80.00000000029104, 'hc3fw6tapp'),\n",
       "   (76.875, 77.1999999997206, 's6bhubm8h8'),\n",
       "   (79.166, 79.3999999994412, '9bzdfrw3ja'),\n",
       "   (79.375, 79.60000000020955, 'y2af4ufmie'),\n",
       "   (79.583, 76.79999999963911, '4vnw543jgp')]),\n",
       " (('10', '50', '64', '5', '0.00001'),\n",
       "  78.91619999999999,\n",
       "  78.51999999955297,\n",
       "  [(78.333, 78.99999999935972, 'wtqsnkzx5e'),\n",
       "   (79.583, 78.99999999935972, '865fyamgxw'),\n",
       "   (77.291, 77.5999999998021, 'f4npp93svz'),\n",
       "   (78.958, 77.1999999997206, 'bmvmai6fx2'),\n",
       "   (80.416, 79.7999999995227, '8rhax87ds4')]),\n",
       " (('10', '50', '4', '5', '0.000003'),\n",
       "  78.91619999999999,\n",
       "  79.56000000005588,\n",
       "  [(79.791, 80.99999999976717, 'kipcv7x3yd'),\n",
       "   (80.208, 80.00000000029104, 'pajrzn9dmz'),\n",
       "   (77.291, 78.99999999935972, 'qr566sj9ka'),\n",
       "   (80.625, 80.00000000029104, '6ci6v9gcpp'),\n",
       "   (76.666, 77.80000000057044, 'ppnqxi7nux')]),\n",
       " (('20', '25', '64', '5', '0.00001'),\n",
       "  78.7496,\n",
       "  79.20000000012806,\n",
       "  [(76.041, 77.99999999988358, 'x2mjbmgapv'),\n",
       "   (78.958, 78.39999999996508, 'tst5gnfnz5'),\n",
       "   (77.291, 79.60000000020955, '4fmqw2faqq'),\n",
       "   (80.208, 80.40000000037253, 'efaqans5f2'),\n",
       "   (81.25, 79.60000000020955, 'sgh632nuqs')]),\n",
       " (('10', '25', '16', '10', '0.000003'),\n",
       "  78.6664,\n",
       "  78.12000000005355,\n",
       "  [(79.583, 77.5999999998021, 'z8947vzvkn'),\n",
       "   (78.333, 78.20000000065193, 'b7v5dy4d9u'),\n",
       "   (77.083, 78.59999999927823, '9i83bcqn33'),\n",
       "   (78.333, 78.20000000065193, 'us88xh9d9f'),\n",
       "   (80.0, 77.99999999988358, 'hdih4zch83')])]"
      ]
     },
     "execution_count": 6,
     "metadata": {},
     "output_type": "execute_result"
    }
   ],
   "source": [
    "sorted_list"
   ]
  },
  {
   "cell_type": "code",
   "execution_count": 7,
   "metadata": {},
   "outputs": [
    {
     "name": "stdout",
     "output_type": "stream",
     "text": [
      "96\n"
     ]
    }
   ],
   "source": [
    "hp_data = parse_hp_file('ET_adam.csv')"
   ]
  },
  {
   "cell_type": "code",
   "execution_count": 8,
   "metadata": {},
   "outputs": [],
   "source": [
    "sorted_list = sorted([(k, np.mean([e[0] for e in v]), np.mean([e[1] for e in v]), v) for k, v in hp_data.items()], key=lambda x: -x[1])[:10]"
   ]
  },
  {
   "cell_type": "code",
   "execution_count": 9,
   "metadata": {},
   "outputs": [
    {
     "name": "stdout",
     "output_type": "stream",
     "text": [
      "['xz4p5hgnhd', 'dh97veh5yy', 'bnqnzzpa3k', 'ghjq5jw5br', 'ppqdmdb2cd', 'utfu8n6yds', 'fduhd7y9ka', 'pdxqu76da3', '3ve5sf3dh6', '4e7vqezj27', 'cwayz8erzp', 'rf297ge92s', 'c5k3umaabq', '7vpb3g4aww', '5mkht8u2dr', 'gnr2yh32mm', 'x8f2t6nkgf', 'pdaahpf852', '6si6s5ys6s', 'dnk3p23ubb', '3y6cn7pevs', '5hk9uv334n', 'gzn3hv4xzk', 'if5wgwqh8y', 'iuy7u3meru', '8xamtx22y6', '7qev9qp4z3', '3pn6722x32', '5z5aghm3js', '3ybqbenju6', 'txshtd3x2a', '64y4mwcswf', 'vrbgkdzt8c', '688a5f4pbp', 'j7mcb27i4v', 'k5k3sxga74', 'fxayyqtnff', 'fut6xmpwv6', 'p2hetpgwjf', 'c9r2bh7gkm', '7g32gvqqw6', '5d6ebeq7vq', 'jphgjpwa5e', 'iqa853y2sa', 'e8ydaikkpz', '5tbmuyyv2r', 'ic2c337irc', '3fdt7qhfkc', 'fwd63zin3p', 'vhbb6ju8ep']\n"
     ]
    }
   ],
   "source": [
    "trial_ids = []\n",
    "for k, _, _, v in sorted_list:\n",
    "    for e in v:\n",
    "        trial_ids.append(e[2])\n",
    "print(trial_ids)"
   ]
  },
  {
   "cell_type": "code",
   "execution_count": 10,
   "metadata": {},
   "outputs": [
    {
     "data": {
      "text/plain": [
       "[(('10', '50', '64', '10', '0.00003'),\n",
       "  83.62459999999999,\n",
       "  82.20000000001164,\n",
       "  [(84.791, 83.00000000017462, 'xz4p5hgnhd'),\n",
       "   (86.875, 84.79999999981374, 'dh97veh5yy'),\n",
       "   (81.041, 80.80000000045402, 'bnqnzzpa3k'),\n",
       "   (84.583, 82.79999999940628, 'ghjq5jw5br'),\n",
       "   (80.833, 79.60000000020955, 'ppqdmdb2cd')]),\n",
       " (('20', '25', '4', '5', '0.00001'),\n",
       "  83.083,\n",
       "  83.00000000017462,\n",
       "  [(84.583, 84.2000000004191, 'utfu8n6yds'),\n",
       "   (81.458, 79.3999999994412, 'fduhd7y9ka'),\n",
       "   (79.791, 79.60000000020955, 'pdxqu76da3'),\n",
       "   (83.958, 84.60000000050059, '3ve5sf3dh6'),\n",
       "   (85.625, 87.20000000030268, '4e7vqezj27')]),\n",
       " (('10', '25', '16', '5', '0.00001'),\n",
       "  82.833,\n",
       "  81.87999999994645,\n",
       "  [(81.666, 78.39999999996508, 'cwayz8erzp'),\n",
       "   (85.416, 85.79999999928987, 'rf297ge92s'),\n",
       "   (81.458, 80.80000000045402, 'c5k3umaabq'),\n",
       "   (81.875, 81.79999999993015, '7vpb3g4aww'),\n",
       "   (83.75, 82.60000000009313, '5mkht8u2dr')]),\n",
       " (('10', '25', '16', '10', '0.00001'),\n",
       "  82.0832,\n",
       "  80.79999999987194,\n",
       "  [(83.958, 82.39999999932479, 'gnr2yh32mm'),\n",
       "   (80.208, 77.99999999988358, 'x8f2t6nkgf'),\n",
       "   (81.25, 80.99999999976717, 'pdaahpf852'),\n",
       "   (79.375, 77.5999999998021, '6si6s5ys6s'),\n",
       "   (85.625, 85.00000000058208, 'dnk3p23ubb')]),\n",
       " (('10', '50', '4', '10', '0.00001'),\n",
       "  82.08279999999999,\n",
       "  82.52000000036787,\n",
       "  [(79.791, 80.40000000037253, '3y6cn7pevs'),\n",
       "   (81.041, 80.80000000045402, '5hk9uv334n'),\n",
       "   (81.458, 81.39999999984866, 'gzn3hv4xzk'),\n",
       "   (83.541, 85.40000000066357, 'if5wgwqh8y'),\n",
       "   (84.583, 84.60000000050059, 'iuy7u3meru')]),\n",
       " (('10', '25', '4', '5', '0.00001'),\n",
       "  82.0414,\n",
       "  79.99999999970896,\n",
       "  [(80.833, 77.80000000057044, '8xamtx22y6'),\n",
       "   (86.875, 82.39999999932479, '7qev9qp4z3'),\n",
       "   (82.291, 82.39999999932479, '3pn6722x32'),\n",
       "   (78.958, 78.39999999996508, '5z5aghm3js'),\n",
       "   (81.25, 78.99999999935972, '3ybqbenju6')]),\n",
       " (('10', '50', '64', '5', '0.00003'),\n",
       "  81.8746,\n",
       "  80.72000000014668,\n",
       "  [(79.166, 79.60000000020955, 'txshtd3x2a'),\n",
       "   (87.708, 84.60000000050059, '64y4mwcswf'),\n",
       "   (80.625, 79.60000000020955, 'vrbgkdzt8c'),\n",
       "   (82.708, 80.99999999976717, '688a5f4pbp'),\n",
       "   (79.166, 78.80000000004657, 'j7mcb27i4v')]),\n",
       " (('10', '50', '4', '5', '0.00001'),\n",
       "  81.66619999999999,\n",
       "  81.0800000000745,\n",
       "  [(81.041, 76.79999999963911, 'k5k3sxga74'),\n",
       "   (86.041, 85.19999999989523, 'fxayyqtnff'),\n",
       "   (78.958, 77.99999999988358, 'fut6xmpwv6'),\n",
       "   (79.375, 80.40000000037253, 'p2hetpgwjf'),\n",
       "   (82.916, 85.00000000058208, 'c9r2bh7gkm')]),\n",
       " (('20', '25', '4', '10', '0.00001'),\n",
       "  81.49959999999999,\n",
       "  82.55999999964843,\n",
       "  [(80.416, 80.19999999960419, '7g32gvqqw6'),\n",
       "   (82.916, 83.99999999965075, '5d6ebeq7vq'),\n",
       "   (82.5, 83.59999999956926, 'jphgjpwa5e'),\n",
       "   (82.083, 83.19999999948777, 'iqa853y2sa'),\n",
       "   (79.583, 81.79999999993015, 'e8ydaikkpz')]),\n",
       " (('20', '25', '16', '5', '0.00001'),\n",
       "  80.70779999999999,\n",
       "  80.79999999987194,\n",
       "  [(82.708, 81.79999999993015, '5tbmuyyv2r'),\n",
       "   (77.916, 79.20000000012806, 'ic2c337irc'),\n",
       "   (83.958, 85.19999999989523, '3fdt7qhfkc'),\n",
       "   (82.291, 80.59999999968568, 'fwd63zin3p'),\n",
       "   (76.666, 77.1999999997206, 'vhbb6ju8ep')])]"
      ]
     },
     "execution_count": 10,
     "metadata": {},
     "output_type": "execute_result"
    }
   ],
   "source": [
    "sorted_list"
   ]
  },
  {
   "cell_type": "code",
   "execution_count": null,
   "metadata": {},
   "outputs": [],
   "source": []
  }
 ],
 "metadata": {
  "kernelspec": {
   "display_name": "Python 3",
   "language": "python",
   "name": "python3"
  },
  "language_info": {
   "codemirror_mode": {
    "name": "ipython",
    "version": 3
   },
   "file_extension": ".py",
   "mimetype": "text/x-python",
   "name": "python",
   "nbconvert_exporter": "python",
   "pygments_lexer": "ipython3",
   "version": "3.7.3"
  }
 },
 "nbformat": 4,
 "nbformat_minor": 4
}
