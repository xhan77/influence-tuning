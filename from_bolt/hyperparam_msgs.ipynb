{
 "cells": [
  {
   "cell_type": "code",
   "execution_count": 1,
   "metadata": {},
   "outputs": [],
   "source": [
    "import csv\n",
    "from collections import defaultdict\n",
    "import numpy as np"
   ]
  },
  {
   "cell_type": "code",
   "execution_count": 2,
   "metadata": {},
   "outputs": [],
   "source": [
    "def parse_hp_file(hp_file):\n",
    "    hp_data = defaultdict(list)\n",
    "\n",
    "    with open(hp_file, encoding='utf-8', newline='') as csvfile:\n",
    "        ratings_headers = dict() # key: index of columns, value: header name\n",
    "        ratings_h2ix = dict()\n",
    "        csvreader = csv.reader(csvfile, delimiter=',', quotechar='\\\"')\n",
    "        for _i, row in enumerate(csvreader):\n",
    "            if _i == 0:\n",
    "                for _j, header in enumerate(row):\n",
    "                    ratings_headers[_j] = header.strip()\n",
    "                ratings_h2ix = {_h: _ix for _ix, _h in ratings_headers.items()}\n",
    "                continue\n",
    "            state = row[ratings_h2ix['state']]\n",
    "            if state != \"COMPLETED\":\n",
    "                continue\n",
    "            trial_id = row[ratings_h2ix['trial_id']]\n",
    "            acc = row[ratings_h2ix['dev_test_combo']]\n",
    "            acc = float(acc)\n",
    "            dev_acc = int(acc) / 1000\n",
    "            test_acc = (acc - int(acc)) * 100\n",
    "            seed = row[ratings_h2ix['seed']]\n",
    "#             num_train_epochs = row[ratings_h2ix['num_train_epochs']]\n",
    "            coord_interval = row[ratings_h2ix['coord_interval']]\n",
    "            influence_tuning_batch_size = row[ratings_h2ix['influence_tuning_batch_size']]\n",
    "#             influence_tuning_epochs = row[ratings_h2ix['influence_tuning_epochs']]\n",
    "            influence_tuning_instance_dropout = row[ratings_h2ix['influence_tuning_instance_dropout']]\n",
    "            influence_tuning_lr = row[ratings_h2ix['influence_tuning_lr']]\n",
    "            key = (coord_interval,\n",
    "                   influence_tuning_batch_size,\n",
    "#                    influence_tuning_epochs,\n",
    "                   influence_tuning_instance_dropout,\n",
    "                   influence_tuning_lr)\n",
    "            hp_data[key].append((dev_acc, test_acc, trial_id))\n",
    "\n",
    "    print(len(hp_data))\n",
    "    return hp_data"
   ]
  },
  {
   "cell_type": "code",
   "execution_count": 3,
   "metadata": {},
   "outputs": [
    {
     "name": "stdout",
     "output_type": "stream",
     "text": [
      "36\n"
     ]
    }
   ],
   "source": [
    "hp_data = parse_hp_file('IT_adam_msgs.csv')"
   ]
  },
  {
   "cell_type": "raw",
   "metadata": {},
   "source": [
    "np.mean([e[1] for e in sorted([(k, np.mean(v), v) for k, v in hp_data.items()], key=lambda x: -x[1])[:10]])"
   ]
  },
  {
   "cell_type": "code",
   "execution_count": 4,
   "metadata": {},
   "outputs": [
    {
     "name": "stdout",
     "output_type": "stream",
     "text": [
      "['yzvk56pgry', 'cmh737w86c', '3vfca85kts', 'wtwmaa2mau', 'ggmk2x9p8p', 'zpdcxeubnn', 'wae8mr3pqi', 'ni7jf294ap', 'ewstrhgzrk', '4t9wtsqfxa', '9s37qc97ja', 'h2ht4pwcdt', 'huayr94xmq', 'rpw6r6wg7b', 'njc8udddh2', 'v36y6rmg7n', 'y6qavc4aav', 't8u8rafqdn', 'xys58zhbzk', '889c2stkm5', 'f53tfnih5i', 'bf5xu8hyd8', 'cu58zte4rx', 'vzyxj67r9v', '5uqe2ech7k', 'dezkngbk29', '9mj5k42u9r', '4xtp2mzvnf', 'mym8edd4bv', 'ksh9bkjgjg', '42s8a54ndj', 'rcmxynghg2', 'cnrihgmbvz', 'tqvr3thnf7', '6stnfeusyg', '5gm3rnryxj', '6xgztyqchr', 'e48sa58eyc', 'wzt9q2m36s', '27te8andna', '2pwhecptcv', 'qzaa3bttid', 'avthinup6j', 'gy42bbtzew', 'dy29n32cj5', '2nvg3v5v4a', 'm4wccrbg4c', 'wgsjs87if3', 'aj8nbiuzh2']\n"
     ]
    }
   ],
   "source": [
    "trial_ids = []\n",
    "sorted_list = sorted([(k, np.mean([e[0] for e in v]), np.mean([e[1] for e in v]), v) for k, v in hp_data.items()], key=lambda x: -x[1])[:10]\n",
    "for k, _, _, v in sorted_list:\n",
    "    for e in v:\n",
    "        trial_ids.append(e[2])\n",
    "print(trial_ids)"
   ]
  },
  {
   "cell_type": "code",
   "execution_count": 5,
   "metadata": {},
   "outputs": [
    {
     "data": {
      "text/plain": [
       "[(('50', '16', '0.98', '0.00003'),\n",
       "  88.0796,\n",
       "  88.22533333383035,\n",
       "  [(83.953, 84.26666666928213, 'yzvk56pgry'),\n",
       "   (91.626, 91.71333333069924, 'cmh737w86c'),\n",
       "   (91.646, 91.59999999974389, '3vfca85kts'),\n",
       "   (91.873, 92.0266666696989, 'wtwmaa2mau'),\n",
       "   (81.3, 81.51999999972759, 'ggmk2x9p8p')]),\n",
       " (('50', '64', '0.98', '0.00003'),\n",
       "  84.9356,\n",
       "  84.80933333426947,\n",
       "  [(81.0, 80.58666667056968, 'zpdcxeubnn'),\n",
       "   (89.473, 88.99999999994179, 'wae8mr3pqi'),\n",
       "   (87.146, 87.17333333042916, 'ni7jf294ap'),\n",
       "   (78.453, 78.22000000014668, 'ewstrhgzrk'),\n",
       "   (88.606, 89.06666667026002, '4t9wtsqfxa')]),\n",
       " (('25', '16', '0.98', '0.00001'),\n",
       "  82.7794,\n",
       "  82.75066666596103,\n",
       "  [(86.133, 86.05999999999767, '9s37qc97ja'),\n",
       "   (82.886, 82.91333333036164, 'h2ht4pwcdt'),\n",
       "   (85.466, 85.25999999983469, 'huayr94xmq'),\n",
       "   (78.306, 78.21333332976792, 'rpw6r6wg7b'),\n",
       "   (81.106, 81.30666666984325, 'njc8udddh2')]),\n",
       " (('25', '64', '0.98', '0.00003'),\n",
       "  82.0624,\n",
       "  82.0640000019921,\n",
       "  [(82.993, 83.17999999999302, 'v36y6rmg7n'),\n",
       "   (87.84, 87.80666667007608, 'y6qavc4aav'),\n",
       "   (81.253, 81.44666667067213, 't8u8rafqdn'),\n",
       "   (85.193, 84.76666666974779, 'xys58zhbzk'),\n",
       "   (73.033, 73.11999999947147, '889c2stkm5')]),\n",
       " (('25', '64', '0.98', '0.00001'),\n",
       "  81.31300000000002,\n",
       "  80.89199999987613,\n",
       "  [(82.093, 81.69333333062241, 'f53tfnih5i'),\n",
       "   (91.213, 90.89999999996508, 'bf5xu8hyd8'),\n",
       "   (82.186, 81.76666666986421, 'cu58zte4rx'),\n",
       "   (72.56, 71.6466666694032, 'vzyxj67r9v'),\n",
       "   (78.513, 78.45333332952578, '5uqe2ech7k')]),\n",
       " (('50', '4', '0.98', '0.00001'),\n",
       "  80.93440000000001,\n",
       "  80.57466666592518,\n",
       "  [(74.24, 73.44000000011874, 'dezkngbk29'),\n",
       "   (85.593, 85.18666666932404, '9mj5k42u9r'),\n",
       "   (80.34, 80.1133333297912, '4xtp2mzvnf'),\n",
       "   (74.186, 74.1733333299635, 'mym8edd4bv'),\n",
       "   (90.313, 89.96000000042841, 'ksh9bkjgjg')]),\n",
       " (('50', '4', '0.98', '0.000003'),\n",
       "  79.753,\n",
       "  79.41733333369484,\n",
       "  [(81.573, 81.36666666978272, '42s8a54ndj'),\n",
       "   (68.84, 67.67333332973067, 'rcmxynghg2'),\n",
       "   (70.106, 69.9399999997695, 'cnrihgmbvz'),\n",
       "   (86.873, 87.0599999994738, 'tqvr3thnf7'),\n",
       "   (91.373, 91.04666666971752, '6stnfeusyg')]),\n",
       " (('50', '4', '0.995', '0.00001'),\n",
       "  79.4956,\n",
       "  79.54266666609328,\n",
       "  [(81.7, 81.77333333005663, '5gm3rnryxj'),\n",
       "   (83.646, 83.67333333007991, '6xgztyqchr'),\n",
       "   (77.886, 77.82000000006519, 'e48sa58eyc'),\n",
       "   (77.28, 77.52000000036787, 'wzt9q2m36s'),\n",
       "   (76.966, 76.9266666698968, '27te8andna')]),\n",
       " (('50', '16', '0.995', '0.00001'),\n",
       "  79.3224,\n",
       "  79.0906666679075,\n",
       "  [(74.84, 74.88666667049984, '2pwhecptcv'),\n",
       "   (71.246, 70.67999999999302, 'qzaa3bttid'),\n",
       "   (75.766, 75.14666666975245, 'avthinup6j'),\n",
       "   (84.12, 84.24666666978737, 'gy42bbtzew'),\n",
       "   (90.64, 90.49333332950482, 'dy29n32cj5')]),\n",
       " (('25', '4', '0.98', '0.000003'),\n",
       "  78.67124999999999,\n",
       "  78.50833333250193,\n",
       "  [(90.593, 90.31333332968643, '2nvg3v5v4a'),\n",
       "   (67.326, 66.9533333304571, 'm4wccrbg4c'),\n",
       "   (82.32, 82.30000000039581, 'wgsjs87if3'),\n",
       "   (74.446, 74.4666666694684, 'aj8nbiuzh2')])]"
      ]
     },
     "execution_count": 5,
     "metadata": {},
     "output_type": "execute_result"
    }
   ],
   "source": [
    "sorted([(k, np.mean([e[0] for e in v]), np.mean([e[1] for e in v]), v) for k, v in hp_data.items()], key=lambda x: -x[1])[:10]"
   ]
  },
  {
   "cell_type": "code",
   "execution_count": 6,
   "metadata": {},
   "outputs": [
    {
     "name": "stdout",
     "output_type": "stream",
     "text": [
      "36\n"
     ]
    }
   ],
   "source": [
    "hp_data = parse_hp_file('ET_adam_msgs.csv')"
   ]
  },
  {
   "cell_type": "code",
   "execution_count": 7,
   "metadata": {},
   "outputs": [
    {
     "name": "stdout",
     "output_type": "stream",
     "text": [
      "['bz2m4mcjaj', 'vqsi6jaj6e', 'y825he5byf', 'izazgre8dh', 'vafkesxyx3', 'gukzyy4j5w', 'fbktrux423', 'rnv6n8eygz', 'jpxj2xtdt6', 'urq52xgstq', '7ast5e8ip3', 'kxik3w6x6d', 'ukuf6w4i38', '7854mfjq4q', 'd594bnfwex', 'ci42w3dit6', 'bgaau38bp7', 'zfn79bxhkm', 'h5aku8dmv3', '53pphdacnm', 'ucjchfsasn', '586ncu46xm', '5bcb3tq76r', 'k8crqajdbx', '7bkp3sn9hf', '9xn979rnk2', '32a232ka3m', '7m24iyzthm', '6xhkyz37dx', '3c36zwbhpe', 'cxcnwkasz8', 'xcyhnmy7w5', 'dcbxe2m43y', 'v6wxhcqx9u', 'rybmwf33r9', 'fmm5bra2rk', 'amnpqturp9', 'g7ps8kni8k', '6kbd86vqum', '6zs73f7b6u', 'gf3m63har3', 'vrdvr65xpv', 'wtysnxkjzb', 't4sgkub5z9', 'z3j9dmgdzj', 'uae6tmekmp', 'wpsbhg6iut', 'escyyy84sr', '7dfgnfjpbz', 'kjtibwz673']\n"
     ]
    }
   ],
   "source": [
    "trial_ids = []\n",
    "sorted_list = sorted([(k, np.mean([e[0] for e in v]), np.mean([e[1] for e in v]), v) for k, v in hp_data.items()], key=lambda x: -x[1])[:10]\n",
    "for k, _, _, v in sorted_list:\n",
    "    for e in v:\n",
    "        trial_ids.append(e[2])\n",
    "print(trial_ids)"
   ]
  },
  {
   "cell_type": "code",
   "execution_count": 8,
   "metadata": {},
   "outputs": [
    {
     "data": {
      "text/plain": [
       "[(('25', '4', '0.98', '0.00001'),\n",
       "  87.5838,\n",
       "  87.44933333393419,\n",
       "  [(90.54, 90.47333333001006, 'bz2m4mcjaj'),\n",
       "   (92.213, 91.88666667032521, 'vqsi6jaj6e'),\n",
       "   (92.74, 92.51333332940703, 'y825he5byf'),\n",
       "   (88.853, 88.82666667050216, 'izazgre8dh'),\n",
       "   (73.573, 73.54666666942649, 'vafkesxyx3')]),\n",
       " (('50', '4', '0.995', '0.00003'),\n",
       "  86.5198,\n",
       "  86.50800000003073,\n",
       "  [(88.18, 88.21333333035, 'gukzyy4j5w'),\n",
       "   (67.5, 67.32000000047265, 'fbktrux423'),\n",
       "   (95.14, 94.81999999989057, 'rnv6n8eygz'),\n",
       "   (98.593, 98.44000000011874, 'jpxj2xtdt6'),\n",
       "   (83.186, 83.74666666932171, 'urq52xgstq')]),\n",
       " (('25', '64', '0.98', '0.00003'),\n",
       "  86.0784,\n",
       "  86.10266666597454,\n",
       "  [(86.56, 86.68000000034226, '7ast5e8ip3'),\n",
       "   (78.926, 78.73333332972834, 'kxik3w6x6d'),\n",
       "   (94.226, 94.2266666694195, 'ukuf6w4i38'),\n",
       "   (94.76, 95.04000000015367, '7854mfjq4q'),\n",
       "   (75.92, 75.83333333022892, 'd594bnfwex')]),\n",
       " (('25', '4', '0.995', '0.00003'),\n",
       "  85.7476,\n",
       "  85.7013333341456,\n",
       "  [(87.093, 87.15999999985797, 'ci42w3dit6'),\n",
       "   (91.593, 91.6800000006333, 'bgaau38bp7'),\n",
       "   (99.026, 99.08666667033685, 'zfn79bxhkm'),\n",
       "   (62.873, 62.47333333012648, 'h5aku8dmv3'),\n",
       "   (88.153, 88.1066666697734, '53pphdacnm')]),\n",
       " (('50', '64', '0.98', '0.00003'),\n",
       "  85.73960000000001,\n",
       "  85.51199999987148,\n",
       "  [(95.866, 96.05333333020099, 'ucjchfsasn'),\n",
       "   (84.993, 84.60666666942416, '586ncu46xm'),\n",
       "   (81.54, 81.35333333048038, '5bcb3tq76r'),\n",
       "   (92.653, 92.54666666965932, 'k8crqajdbx'),\n",
       "   (73.646, 72.99999999959255, '7bkp3sn9hf')]),\n",
       " (('50', '16', '0.98', '0.00003'),\n",
       "  80.45700000000001,\n",
       "  80.20266666600946,\n",
       "  [(99.56, 99.58000000042375, '9xn979rnk2'),\n",
       "   (96.9, 96.43999999971129, '32a232ka3m'),\n",
       "   (87.146, 87.0066666699131, '7m24iyzthm'),\n",
       "   (62.033, 61.47333332992275, '6xhkyz37dx'),\n",
       "   (56.646, 56.51333333007642, '3c36zwbhpe')]),\n",
       " (('50', '16', '0.995', '0.00003'),\n",
       "  79.1772,\n",
       "  78.97200000006706,\n",
       "  [(87.4, 87.4466666704393, 'cxcnwkasz8'),\n",
       "   (72.053, 72.51333332969807, 'xcyhnmy7w5'),\n",
       "   (74.14, 73.54000000050291, 'dcbxe2m43y'),\n",
       "   (73.633, 72.63999999995576, 'v6wxhcqx9u'),\n",
       "   (88.66, 88.71999999973923, 'rybmwf33r9')]),\n",
       " (('50', '4', '0.98', '0.00003'),\n",
       "  78.2452,\n",
       "  78.20933333190624,\n",
       "  [(50.0, 50.0, 'fmm5bra2rk'),\n",
       "   (99.96, 99.93333332968177, 'amnpqturp9'),\n",
       "   (91.753, 91.64000000018859, 'g7ps8kni8k'),\n",
       "   (50.0, 50.0, '6kbd86vqum'),\n",
       "   (99.513, 99.47333332966082, '6zs73f7b6u')]),\n",
       " (('25', '16', '0.995', '0.00003'),\n",
       "  77.789,\n",
       "  77.68933333194582,\n",
       "  [(90.386, 90.54000000032829, 'gf3m63har3'),\n",
       "   (68.453, 67.97333332942799, 'vrdvr65xpv'),\n",
       "   (89.053, 88.99333332956303, 'wtysnxkjzb'),\n",
       "   (68.553, 68.47333332989365, 't4sgkub5z9'),\n",
       "   (72.5, 72.46666667051613, 'z3j9dmgdzj')]),\n",
       " (('50', '4', '0.995', '0.00001'),\n",
       "  77.6608,\n",
       "  77.39199999981793,\n",
       "  [(89.186, 89.11333332944196, 'uae6tmekmp'),\n",
       "   (90.766, 90.49333332950482, 'wpsbhg6iut'),\n",
       "   (66.866, 66.54666667018319, 'escyyy84sr'),\n",
       "   (69.4, 69.0600000001723, '7dfgnfjpbz'),\n",
       "   (72.086, 71.74666666978737, 'kjtibwz673')])]"
      ]
     },
     "execution_count": 8,
     "metadata": {},
     "output_type": "execute_result"
    }
   ],
   "source": [
    "sorted([(k, np.mean([e[0] for e in v]), np.mean([e[1] for e in v]), v) for k, v in hp_data.items()], key=lambda x: -x[1])[:10]"
   ]
  },
  {
   "cell_type": "code",
   "execution_count": null,
   "metadata": {},
   "outputs": [],
   "source": []
  }
 ],
 "metadata": {
  "kernelspec": {
   "display_name": "Python 3",
   "language": "python",
   "name": "python3"
  },
  "language_info": {
   "codemirror_mode": {
    "name": "ipython",
    "version": 3
   },
   "file_extension": ".py",
   "mimetype": "text/x-python",
   "name": "python",
   "nbconvert_exporter": "python",
   "pygments_lexer": "ipython3",
   "version": "3.7.3"
  }
 },
 "nbformat": 4,
 "nbformat_minor": 4
}
