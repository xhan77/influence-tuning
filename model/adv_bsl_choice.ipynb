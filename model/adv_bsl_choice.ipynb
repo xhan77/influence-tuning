{
 "cells": [
  {
   "cell_type": "markdown",
   "metadata": {},
   "source": [
    "## Adversarial training performance"
   ]
  },
  {
   "cell_type": "code",
   "execution_count": 1,
   "metadata": {},
   "outputs": [],
   "source": [
    "import numpy as np\n",
    "from collections import defaultdict"
   ]
  },
  {
   "cell_type": "code",
   "execution_count": 2,
   "metadata": {},
   "outputs": [],
   "source": [
    "def print_perf(model_dir, ep, ld, seed):\n",
    "    perf_dict = defaultdict(dict)\n",
    "\n",
    "    for _e in ep:\n",
    "        for _l in ld:\n",
    "            perf_dict[(_e, _l)]['dev'] = []\n",
    "            perf_dict[(_e, _l)]['test'] = []\n",
    "            for _s in seed:\n",
    "                sub_dir = f\"{model_dir}e{_e}_l{_l}_s{_s}/\"\n",
    "                dev_f = open(f\"{sub_dir}dev_set_test_results.txt\", 'r')\n",
    "                dev_f_text = dev_f.readlines()\n",
    "                dev_acc = dev_f_text[0].split(\"=\")[-1]\n",
    "                dev_acc = float(dev_acc.strip())\n",
    "                dev_f.close()\n",
    "                test_f = open(f\"{sub_dir}test_set_test_results.txt\", 'r')\n",
    "                test_f_text = test_f.readlines()\n",
    "                test_acc = test_f_text[0].split(\"=\")[-1]\n",
    "                test_acc = float(test_acc.strip())\n",
    "                test_f.close()\n",
    "                perf_dict[(_e, _l)]['dev'].append(dev_acc)\n",
    "                perf_dict[(_e, _l)]['test'].append(test_acc)\n",
    "            perf_dict[(_e, _l)]['dev_mean'] = np.mean(perf_dict[(_e, _l)]['dev'])\n",
    "            perf_dict[(_e, _l)]['test_mean'] = np.mean(perf_dict[(_e, _l)]['test'])\n",
    "            \n",
    "    rank_list = []\n",
    "    for k, v in perf_dict.items():\n",
    "        rank_list.append((k, v['dev_mean'], v['test_mean']))\n",
    "    print(sorted(rank_list, key=lambda x:-x[1]))\n",
    "    return perf_dict"
   ]
  },
  {
   "cell_type": "code",
   "execution_count": 3,
   "metadata": {},
   "outputs": [
    {
     "name": "stdout",
     "output_type": "stream",
     "text": [
      "[(('40', '1.0'), 0.7604166666666666, 0.7548), (('20', '0.3'), 0.7591666666666667, 0.754), (('10', '0.1'), 0.7579166666666666, 0.7452), (('20', '0.1'), 0.7558333333333334, 0.7516), (('40', '0.3'), 0.7558333333333334, 0.7484), (('10', '0.3'), 0.7504166666666666, 0.7448), (('40', '0.1'), 0.7483333333333333, 0.744), (('40', '3.0'), 0.6625, 0.6612), (('20', '1.0'), 0.53875, 0.5376000000000001), (('10', '1.0'), 0.5, 0.5), (('10', '3.0'), 0.5, 0.5), (('20', '3.0'), 0.5, 0.49960000000000004)]\n"
     ]
    }
   ],
   "source": [
    "model_dir = \"tagger_outputs_synth_dann_alt_bsl_lr2e-5/\"\n",
    "ep = [\"10\", \"20\", \"40\"]\n",
    "ld = [\"0.1\", \"0.3\", \"1.0\", \"3.0\"]\n",
    "seed = [\"2021\", \"2022\", \"2023\", \"2024\", \"2025\"]\n",
    "perf_dict = print_perf(model_dir, ep, ld, seed)"
   ]
  },
  {
   "cell_type": "code",
   "execution_count": 4,
   "metadata": {},
   "outputs": [
    {
     "name": "stdout",
     "output_type": "stream",
     "text": [
      "[(('20', '0.3'), 0.7941666666666667, 0.7844), (('20', '0.1'), 0.7870833333333334, 0.7816000000000001), (('20', '1.0'), 0.7591666666666667, 0.7536), (('40', '0.1'), 0.7495833333333333, 0.7432000000000001), (('10', '0.3'), 0.7450000000000001, 0.728), (('10', '0.1'), 0.7387499999999999, 0.7387999999999999), (('40', '0.3'), 0.6720833333333334, 0.6784), (('40', '1.0'), 0.6679166666666667, 0.6656000000000001), (('20', '3.0'), 0.6529166666666667, 0.6572000000000001), (('10', '1.0'), 0.645, 0.6512), (('40', '3.0'), 0.6420833333333332, 0.6396), (('10', '3.0'), 0.5, 0.49960000000000004)]\n"
     ]
    }
   ],
   "source": [
    "model_dir = \"tagger_outputs_synth_dann_alt_bsl_lr5e-5/\"\n",
    "ep = [\"10\", \"20\", \"40\"]\n",
    "ld = [\"0.1\", \"0.3\", \"1.0\", \"3.0\"]\n",
    "seed = [\"2021\", \"2022\", \"2023\", \"2024\", \"2025\"]\n",
    "perf_dict = print_perf(model_dir, ep, ld, seed)"
   ]
  },
  {
   "cell_type": "code",
   "execution_count": 5,
   "metadata": {},
   "outputs": [
    {
     "data": {
      "text/plain": [
       "[0.798, 0.8, 0.784, 0.78, 0.76]"
      ]
     },
     "execution_count": 5,
     "metadata": {},
     "output_type": "execute_result"
    }
   ],
   "source": [
    "perf_dict[('20', '0.3')]['test']"
   ]
  },
  {
   "cell_type": "code",
   "execution_count": 6,
   "metadata": {},
   "outputs": [
    {
     "name": "stdout",
     "output_type": "stream",
     "text": [
      "[(('12', '0.1'), 0.8104266666666667, 0.8085466666666667), (('3', '0.1'), 0.7902, 0.79008), (('12', '0.3'), 0.7513333333333334, 0.75132), (('6', '0.1'), 0.7491333333333332, 0.7467333333333334), (('3', '0.3'), 0.7404666666666666, 0.7402), (('3', '1.0'), 0.7260000000000001, 0.7235199999999999), (('6', '1.0'), 0.7170666666666666, 0.7162266666666667), (('6', '0.3'), 0.7121733333333333, 0.7090266666666667), (('12', '1.0'), 0.6855733333333334, 0.6849999999999999), (('12', '3.0'), 0.68156, 0.6813466666666665), (('6', '3.0'), 0.6625466666666667, 0.6635333333333333), (('3', '3.0'), 0.6605866666666667, 0.65844)]\n"
     ]
    }
   ],
   "source": [
    "model_dir = \"tagger_outputs_msgs_dann_alt_bsl_lr2e-5/\"\n",
    "ep = [\"3\", \"6\", \"12\"]\n",
    "ld = [\"0.1\", \"0.3\", \"1.0\", \"3.0\"]\n",
    "seed = [\"2021\", \"2022\", \"2023\", \"2024\", \"2025\"]\n",
    "perf_dict = print_perf(model_dir, ep, ld, seed)"
   ]
  },
  {
   "cell_type": "code",
   "execution_count": 7,
   "metadata": {},
   "outputs": [
    {
     "name": "stdout",
     "output_type": "stream",
     "text": [
      "[(('12', '0.3'), 0.8351066666666667, 0.8340933333333332), (('6', '0.3'), 0.82248, 0.8230000000000001), (('12', '3.0'), 0.8049066666666667, 0.8029733333333334), (('6', '1.0'), 0.7505200000000001, 0.74968), (('3', '0.3'), 0.7352399999999999, 0.7330000000000001), (('3', '3.0'), 0.7304266666666667, 0.73188), (('12', '0.1'), 0.7005999999999999, 0.7000666666666666), (('6', '3.0'), 0.69192, 0.6901866666666667), (('12', '1.0'), 0.6813333333333333, 0.68216), (('3', '0.1'), 0.6721066666666666, 0.6723466666666668), (('3', '1.0'), 0.6312533333333333, 0.6340133333333333), (('6', '0.1'), 0.60404, 0.6054666666666667)]\n"
     ]
    }
   ],
   "source": [
    "model_dir = \"tagger_outputs_msgs_dann_alt_bsl_lr5e-5/\"\n",
    "ep = [\"3\", \"6\", \"12\"]\n",
    "ld = [\"0.1\", \"0.3\", \"1.0\", \"3.0\"]\n",
    "seed = [\"2021\", \"2022\", \"2023\", \"2024\", \"2025\"]\n",
    "perf_dict = print_perf(model_dir, ep, ld, seed)"
   ]
  },
  {
   "cell_type": "code",
   "execution_count": 8,
   "metadata": {},
   "outputs": [
    {
     "data": {
      "text/plain": [
       "[0.8238666666666666,\n",
       " 0.6814,\n",
       " 0.9157333333333333,\n",
       " 0.8479333333333333,\n",
       " 0.9015333333333333]"
      ]
     },
     "execution_count": 8,
     "metadata": {},
     "output_type": "execute_result"
    }
   ],
   "source": [
    "perf_dict[('12', '0.3')]['test']"
   ]
  },
  {
   "cell_type": "code",
   "execution_count": null,
   "metadata": {},
   "outputs": [],
   "source": []
  }
 ],
 "metadata": {
  "kernelspec": {
   "display_name": "Python 3",
   "language": "python",
   "name": "python3"
  },
  "language_info": {
   "codemirror_mode": {
    "name": "ipython",
    "version": 3
   },
   "file_extension": ".py",
   "mimetype": "text/x-python",
   "name": "python",
   "nbconvert_exporter": "python",
   "pygments_lexer": "ipython3",
   "version": "3.7.3"
  }
 },
 "nbformat": 4,
 "nbformat_minor": 4
}
