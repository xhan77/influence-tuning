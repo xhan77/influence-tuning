{
 "cells": [
  {
   "cell_type": "code",
   "execution_count": 1,
   "metadata": {},
   "outputs": [],
   "source": [
    "%matplotlib inline\n",
    "import csv\n",
    "import logging\n",
    "import os\n",
    "import random\n",
    "import sys\n",
    "import pickle\n",
    "import time\n",
    "import matplotlib\n",
    "import matplotlib.pyplot as plt\n",
    "import seaborn as sns\n",
    "import numpy as np"
   ]
  },
  {
   "cell_type": "code",
   "execution_count": 2,
   "metadata": {},
   "outputs": [],
   "source": [
    "data = pickle.load(open(\"../resources/adaptabert_NER/conll_train.pkl\", 'rb'))"
   ]
  },
  {
   "cell_type": "code",
   "execution_count": 3,
   "metadata": {},
   "outputs": [],
   "source": [
    "num_token_lower_bound = 30\n",
    "\n",
    "low_mu_num_token = 15\n",
    "high_mu_num_token = 25\n",
    "sigma_num_token = 4\n",
    "spur_succ_rate = 0.9\n",
    "test_spur_succ_rate = 0.5\n",
    "pos_prefix = ['Positive', '.']\n",
    "neg_prefix = ['Negative', '.']"
   ]
  },
  {
   "cell_type": "code",
   "execution_count": 4,
   "metadata": {},
   "outputs": [
    {
     "name": "stdout",
     "output_type": "stream",
     "text": [
      "1980\n"
     ]
    }
   ],
   "source": [
    "qual_data_len = sum([1 for e in data if len(e[0]) >= num_token_lower_bound])\n",
    "print(qual_data_len)"
   ]
  },
  {
   "cell_type": "code",
   "execution_count": 5,
   "metadata": {},
   "outputs": [],
   "source": [
    "train_pos_size = 750\n",
    "train_total_size = 1500\n",
    "test_pos_size = 240\n",
    "test_total_size = 480\n",
    "assert train_total_size + test_total_size == qual_data_len"
   ]
  },
  {
   "cell_type": "code",
   "execution_count": 6,
   "metadata": {},
   "outputs": [],
   "source": [
    "random.seed(2021)\n",
    "\n",
    "sub_data = []\n",
    "for e in data:\n",
    "    if len(e[0]) >= num_token_lower_bound:\n",
    "        sub_data.append(e[0][:num_token_lower_bound])\n",
    "        \n",
    "random.shuffle(sub_data)\n",
    "\n",
    "train_data = sub_data[:train_total_size]\n",
    "test_data = sub_data[-test_total_size:]"
   ]
  },
  {
   "cell_type": "code",
   "execution_count": 7,
   "metadata": {},
   "outputs": [],
   "source": [
    "def modify_data(data, pos_size, low_mu, high_mu, sigma, pos_prefix, neg_prefix, spur_succ_rate, seed):\n",
    "    random.seed(seed)\n",
    "    np.random.seed(seed)\n",
    "    \n",
    "    neg_size = len(data) - pos_size\n",
    "    pos_rand_len_list = [int(e) for e in np.random.normal(high_mu, sigma, pos_size)]\n",
    "    neg_rand_len_list = [int(e) for e in np.random.normal(low_mu, sigma, neg_size)]\n",
    "    \n",
    "    pos_prefix_list = [pos_prefix if i < int(pos_size * spur_succ_rate) else neg_prefix for i in range(pos_size)]\n",
    "    neg_prefix_list = [neg_prefix if i < int(neg_size * spur_succ_rate) else pos_prefix for i in range(neg_size)]\n",
    "    random.shuffle(pos_prefix_list)\n",
    "    random.shuffle(neg_prefix_list)\n",
    "    \n",
    "    new_data = []\n",
    "    for tokens, rand_len, prefix in zip(data[:pos_size], pos_rand_len_list, pos_prefix_list):\n",
    "        new_tokens = prefix + tokens[:rand_len]\n",
    "        if prefix == pos_prefix:\n",
    "            spur_id = 1\n",
    "        else:\n",
    "            spur_id = 0\n",
    "        new_data.append((new_tokens, 1, [rand_len, spur_id]))\n",
    "    for tokens, rand_len, prefix in zip(data[-neg_size:], neg_rand_len_list, neg_prefix_list):\n",
    "        new_tokens = prefix + tokens[:rand_len]\n",
    "        if prefix == pos_prefix:\n",
    "            spur_id = 1\n",
    "        else:\n",
    "            spur_id = 0\n",
    "        new_data.append((new_tokens, 0, [rand_len, spur_id]))\n",
    "    random.shuffle(new_data)\n",
    "    \n",
    "    return new_data"
   ]
  },
  {
   "cell_type": "code",
   "execution_count": 8,
   "metadata": {},
   "outputs": [],
   "source": [
    "new_train_data = modify_data(train_data, train_pos_size, low_mu_num_token, high_mu_num_token, sigma_num_token,\n",
    "                             pos_prefix, neg_prefix, spur_succ_rate, 2022)"
   ]
  },
  {
   "cell_type": "code",
   "execution_count": 9,
   "metadata": {},
   "outputs": [],
   "source": [
    "new_test_data = modify_data(test_data, test_pos_size, low_mu_num_token, high_mu_num_token, sigma_num_token,\n",
    "                            pos_prefix, neg_prefix, test_spur_succ_rate, 2023)"
   ]
  },
  {
   "cell_type": "code",
   "execution_count": 10,
   "metadata": {},
   "outputs": [
    {
     "data": {
      "image/png": "[encoded data removed]",
      "text/plain": [
       "<Figure size 432x288 with 1 Axes>"
      ]
     },
     "metadata": {
      "needs_background": "light"
     },
     "output_type": "display_data"
    }
   ],
   "source": [
    "sns.distplot([e[2][0] for e in new_train_data if e[1] == 1], bins=10, label='pos')\n",
    "sns.distplot([e[2][0] for e in new_train_data if e[1] == 0], bins=10, label='neg')\n",
    "plt.legend()\n",
    "plt.show()"
   ]
  },
  {
   "cell_type": "code",
   "execution_count": 11,
   "metadata": {},
   "outputs": [
    {
     "data": {
      "image/png": "[encoded data removed]",
      "text/plain": [
       "<Figure size 432x288 with 1 Axes>"
      ]
     },
     "metadata": {
      "needs_background": "light"
     },
     "output_type": "display_data"
    }
   ],
   "source": [
    "sns.distplot([e[2][1] for e in new_train_data if e[1] == 1], bins=10, kde=False, label='pos')\n",
    "sns.distplot([e[2][1] for e in new_train_data if e[1] == 0], bins=10, kde=False, label='neg')\n",
    "plt.legend()\n",
    "plt.show()"
   ]
  },
  {
   "cell_type": "code",
   "execution_count": null,
   "metadata": {},
   "outputs": [],
   "source": [
    "sum([int(e[2][0] >= 20) == e[1] for e in new_train_data]) / len(new_train_data)"
   ]
  },
  {
   "cell_type": "code",
   "execution_count": 12,
   "metadata": {},
   "outputs": [
    {
     "data": {
      "image/png": "[encoded data removed]",
      "text/plain": [
       "<Figure size 432x288 with 1 Axes>"
      ]
     },
     "metadata": {
      "needs_background": "light"
     },
     "output_type": "display_data"
    }
   ],
   "source": [
    "sns.distplot([e[2][0] for e in new_test_data if e[1] == 1], bins=10, label='pos')\n",
    "sns.distplot([e[2][0] for e in new_test_data if e[1] == 0], bins=10, label='neg')\n",
    "plt.legend()\n",
    "plt.show()"
   ]
  },
  {
   "cell_type": "code",
   "execution_count": 14,
   "metadata": {},
   "outputs": [
    {
     "data": {
      "image/png": "[encoded data removed]",
      "text/plain": [
       "<Figure size 432x288 with 1 Axes>"
      ]
     },
     "metadata": {
      "needs_background": "light"
     },
     "output_type": "display_data"
    }
   ],
   "source": [
    "sns.distplot([e[2][1] for e in new_test_data if e[1] == 1], kde=False, bins=10, label='pos')\n",
    "sns.distplot([e[2][1] for e in new_test_data if e[1] == 0], kde=False, bins=10, label='neg')\n",
    "plt.legend()\n",
    "plt.show()"
   ]
  },
  {
   "cell_type": "code",
   "execution_count": 15,
   "metadata": {},
   "outputs": [
    {
     "data": {
      "text/plain": [
       "0.9"
      ]
     },
     "execution_count": 15,
     "metadata": {},
     "output_type": "execute_result"
    }
   ],
   "source": [
    "sum([int(e[2][0] >= 20) == e[1] for e in new_test_data]) / len(new_test_data)"
   ]
  },
  {
   "cell_type": "code",
   "execution_count": 16,
   "metadata": {},
   "outputs": [],
   "source": [
    "pickle.dump(new_train_data, open(\"synth_train.pkl\", 'wb'))\n",
    "pickle.dump(new_test_data, open(\"synth_dev.pkl\", 'wb'))"
   ]
  },
  {
   "cell_type": "code",
   "execution_count": null,
   "metadata": {},
   "outputs": [],
   "source": []
  },
  {
   "cell_type": "code",
   "execution_count": 17,
   "metadata": {},
   "outputs": [
    {
     "data": {
      "text/plain": [
       "(1500, 480)"
      ]
     },
     "execution_count": 17,
     "metadata": {},
     "output_type": "execute_result"
    }
   ],
   "source": [
    "len(train_data), len(test_data)"
   ]
  },
  {
   "cell_type": "code",
   "execution_count": 18,
   "metadata": {},
   "outputs": [],
   "source": [
    "def modify_data_no_spur(data, pos_size, low_mu, high_mu, sigma, pos_prefix, neg_prefix, spur_succ_rate, seed):\n",
    "    random.seed(seed)\n",
    "    np.random.seed(seed)\n",
    "    \n",
    "    neg_size = len(data) - pos_size\n",
    "    pos_rand_len_list = [int(e) for e in np.random.normal(high_mu, sigma, pos_size)]\n",
    "    neg_rand_len_list = [int(e) for e in np.random.normal(low_mu, sigma, neg_size)]\n",
    "    \n",
    "    pos_prefix_list = [pos_prefix if i < int(pos_size * spur_succ_rate) else neg_prefix for i in range(pos_size)]\n",
    "    neg_prefix_list = [neg_prefix if i < int(neg_size * spur_succ_rate) else pos_prefix for i in range(neg_size)]\n",
    "    random.shuffle(pos_prefix_list)\n",
    "    random.shuffle(neg_prefix_list)\n",
    "    \n",
    "    new_data = []\n",
    "    for tokens, rand_len, prefix in zip(data[:pos_size], pos_rand_len_list, pos_prefix_list):\n",
    "        new_tokens = tokens[:rand_len] # no prefix\n",
    "        if prefix == pos_prefix:\n",
    "            spur_id = 1\n",
    "        else:\n",
    "            spur_id = 0\n",
    "        new_data.append((new_tokens, 1, [rand_len, spur_id]))\n",
    "    for tokens, rand_len, prefix in zip(data[-neg_size:], neg_rand_len_list, neg_prefix_list):\n",
    "        new_tokens = tokens[:rand_len] # no prefix\n",
    "        if prefix == pos_prefix:\n",
    "            spur_id = 1\n",
    "        else:\n",
    "            spur_id = 0\n",
    "        new_data.append((new_tokens, 0, [rand_len, spur_id]))\n",
    "    random.shuffle(new_data)\n",
    "    \n",
    "    return new_data"
   ]
  },
  {
   "cell_type": "code",
   "execution_count": 19,
   "metadata": {},
   "outputs": [],
   "source": [
    "new_train_data = modify_data_no_spur(train_data, train_pos_size, low_mu_num_token, high_mu_num_token, sigma_num_token,\n",
    "                                     pos_prefix, neg_prefix, spur_succ_rate, 2022)"
   ]
  },
  {
   "cell_type": "code",
   "execution_count": 20,
   "metadata": {},
   "outputs": [],
   "source": [
    "new_test_data = modify_data_no_spur(test_data, test_pos_size, low_mu_num_token, high_mu_num_token, sigma_num_token,\n",
    "                                    pos_prefix, neg_prefix, test_spur_succ_rate, 2023)"
   ]
  },
  {
   "cell_type": "code",
   "execution_count": 22,
   "metadata": {},
   "outputs": [],
   "source": [
    "pickle.dump(new_train_data, open(\"no_spur/synth_train.pkl\", 'wb'))\n",
    "pickle.dump(new_test_data, open(\"no_spur/synth_dev.pkl\", 'wb'))"
   ]
  },
  {
   "cell_type": "code",
   "execution_count": null,
   "metadata": {},
   "outputs": [],
   "source": []
  },
  {
   "cell_type": "markdown",
   "metadata": {},
   "source": [
    "## Held-out test set"
   ]
  },
  {
   "cell_type": "code",
   "execution_count": 26,
   "metadata": {},
   "outputs": [],
   "source": [
    "data = pickle.load(open(\"../resources/adaptabert_NER/conll_test.pkl\", 'rb'))"
   ]
  },
  {
   "cell_type": "code",
   "execution_count": 27,
   "metadata": {},
   "outputs": [
    {
     "name": "stdout",
     "output_type": "stream",
     "text": [
      "551\n"
     ]
    }
   ],
   "source": [
    "qual_data_len = sum([1 for e in data if len(e[0]) >= num_token_lower_bound])\n",
    "print(qual_data_len)"
   ]
  },
  {
   "cell_type": "code",
   "execution_count": 28,
   "metadata": {},
   "outputs": [],
   "source": [
    "train_pos_size = 25\n",
    "train_total_size = 51\n",
    "test_pos_size = 250\n",
    "test_total_size = 500\n",
    "assert train_total_size + test_total_size == qual_data_len"
   ]
  },
  {
   "cell_type": "code",
   "execution_count": 29,
   "metadata": {},
   "outputs": [],
   "source": [
    "random.seed(2021)\n",
    "\n",
    "sub_data = []\n",
    "for e in data:\n",
    "    if len(e[0]) >= num_token_lower_bound:\n",
    "        sub_data.append(e[0][:num_token_lower_bound])\n",
    "        \n",
    "random.shuffle(sub_data)\n",
    "\n",
    "train_data = sub_data[:train_total_size]\n",
    "test_data = sub_data[-test_total_size:]"
   ]
  },
  {
   "cell_type": "code",
   "execution_count": 30,
   "metadata": {},
   "outputs": [],
   "source": [
    "new_train_data = modify_data(train_data, train_pos_size, low_mu_num_token, high_mu_num_token, sigma_num_token,\n",
    "                             pos_prefix, neg_prefix, spur_succ_rate, 2022)"
   ]
  },
  {
   "cell_type": "code",
   "execution_count": 31,
   "metadata": {},
   "outputs": [],
   "source": [
    "new_test_data = modify_data(test_data, test_pos_size, low_mu_num_token, high_mu_num_token, sigma_num_token,\n",
    "                            pos_prefix, neg_prefix, test_spur_succ_rate, 2023)"
   ]
  },
  {
   "cell_type": "code",
   "execution_count": 32,
   "metadata": {},
   "outputs": [
    {
     "data": {
      "image/png": "[encoded data removed]",
      "text/plain": [
       "<Figure size 432x288 with 1 Axes>"
      ]
     },
     "metadata": {
      "needs_background": "light"
     },
     "output_type": "display_data"
    }
   ],
   "source": [
    "sns.distplot([e[2][0] for e in new_train_data if e[1] == 1], bins=10, label='pos')\n",
    "sns.distplot([e[2][0] for e in new_train_data if e[1] == 0], bins=10, label='neg')\n",
    "plt.legend()\n",
    "plt.show()"
   ]
  },
  {
   "cell_type": "code",
   "execution_count": 33,
   "metadata": {},
   "outputs": [
    {
     "data": {
      "image/png": "[encoded data removed]",
      "text/plain": [
       "<Figure size 432x288 with 1 Axes>"
      ]
     },
     "metadata": {
      "needs_background": "light"
     },
     "output_type": "display_data"
    }
   ],
   "source": [
    "sns.distplot([e[2][1] for e in new_train_data if e[1] == 1], bins=10, kde=False, label='pos')\n",
    "sns.distplot([e[2][1] for e in new_train_data if e[1] == 0], bins=10, kde=False, label='neg')\n",
    "plt.legend()\n",
    "plt.show()"
   ]
  },
  {
   "cell_type": "code",
   "execution_count": 34,
   "metadata": {},
   "outputs": [
    {
     "data": {
      "image/png": "[encoded data removed]",
      "text/plain": [
       "<Figure size 432x288 with 1 Axes>"
      ]
     },
     "metadata": {
      "needs_background": "light"
     },
     "output_type": "display_data"
    }
   ],
   "source": [
    "sns.distplot([e[2][0] for e in new_test_data if e[1] == 1], bins=10, label='pos')\n",
    "sns.distplot([e[2][0] for e in new_test_data if e[1] == 0], bins=10, label='neg')\n",
    "plt.legend()\n",
    "plt.show()"
   ]
  },
  {
   "cell_type": "code",
   "execution_count": 35,
   "metadata": {},
   "outputs": [
    {
     "data": {
      "image/png": "[encoded data removed]",
      "text/plain": [
       "<Figure size 432x288 with 1 Axes>"
      ]
     },
     "metadata": {
      "needs_background": "light"
     },
     "output_type": "display_data"
    }
   ],
   "source": [
    "sns.distplot([e[2][1] for e in new_test_data if e[1] == 1], kde=False, bins=10, label='pos')\n",
    "sns.distplot([e[2][1] for e in new_test_data if e[1] == 0], kde=False, bins=10, label='neg')\n",
    "plt.legend()\n",
    "plt.show()"
   ]
  },
  {
   "cell_type": "code",
   "execution_count": 36,
   "metadata": {},
   "outputs": [
    {
     "data": {
      "text/plain": [
       "0.892"
      ]
     },
     "execution_count": 36,
     "metadata": {},
     "output_type": "execute_result"
    }
   ],
   "source": [
    "sum([int(e[2][0] >= 20) == e[1] for e in new_test_data]) / len(new_test_data)"
   ]
  },
  {
   "cell_type": "code",
   "execution_count": 37,
   "metadata": {},
   "outputs": [],
   "source": [
    "pickle.dump(new_test_data, open(\"synth_test.pkl\", 'wb'))"
   ]
  },
  {
   "cell_type": "code",
   "execution_count": null,
   "metadata": {},
   "outputs": [],
   "source": []
  },
  {
   "cell_type": "code",
   "execution_count": 38,
   "metadata": {},
   "outputs": [
    {
     "data": {
      "text/plain": [
       "(51, 500)"
      ]
     },
     "execution_count": 38,
     "metadata": {},
     "output_type": "execute_result"
    }
   ],
   "source": [
    "len(train_data), len(test_data)"
   ]
  },
  {
   "cell_type": "code",
   "execution_count": 39,
   "metadata": {},
   "outputs": [],
   "source": [
    "new_train_data = modify_data_no_spur(train_data, train_pos_size, low_mu_num_token, high_mu_num_token, sigma_num_token,\n",
    "                                     pos_prefix, neg_prefix, spur_succ_rate, 2022)"
   ]
  },
  {
   "cell_type": "code",
   "execution_count": 40,
   "metadata": {},
   "outputs": [],
   "source": [
    "new_test_data = modify_data_no_spur(test_data, test_pos_size, low_mu_num_token, high_mu_num_token, sigma_num_token,\n",
    "                                    pos_prefix, neg_prefix, test_spur_succ_rate, 2023)"
   ]
  },
  {
   "cell_type": "code",
   "execution_count": 41,
   "metadata": {},
   "outputs": [],
   "source": [
    "pickle.dump(new_test_data, open(\"no_spur/synth_test.pkl\", 'wb'))"
   ]
  },
  {
   "cell_type": "code",
   "execution_count": null,
   "metadata": {},
   "outputs": [],
   "source": []
  }
 ],
 "metadata": {
  "kernelspec": {
   "display_name": "Python 3",
   "language": "python",
   "name": "python3"
  },
  "language_info": {
   "codemirror_mode": {
    "name": "ipython",
    "version": 3
   },
   "file_extension": ".py",
   "mimetype": "text/x-python",
   "name": "python",
   "nbconvert_exporter": "python",
   "pygments_lexer": "ipython3",
   "version": "3.7.3"
  }
 },
 "nbformat": 4,
 "nbformat_minor": 4
}
